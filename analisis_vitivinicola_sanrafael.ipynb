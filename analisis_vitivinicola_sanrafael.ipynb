{
 "cells": [
  {
   "cell_type": "markdown",
   "id": "cf9dcb87",
   "metadata": {},
   "source": [
    "# 📊 Análisis Vitivinícola en San Rafael (Mendoza)\n",
    "\n",
    "Este notebook realiza un análisis exploratorio y predictivo usando datos procesados desde Pentaho, que contienen información sobre superficie de viñedos, producción de uvas y rendimiento en San Rafael, Mendoza (2012–2017)."
   ]
  },
  {
   "cell_type": "code",
   "execution_count": null,
   "id": "b9bcf837",
   "metadata": {},
   "outputs": [],
   "source": [
    "import pandas as pd\n",
    "import matplotlib.pyplot as plt\n",
    "import seaborn as sns\n",
    "from sklearn.linear_model import LinearRegression\n",
    "from sklearn.model_selection import train_test_split\n",
    "from sklearn.metrics import mean_squared_error, r2_score"
   ]
  },
  {
   "cell_type": "code",
   "execution_count": null,
   "id": "d2d646e3",
   "metadata": {},
   "outputs": [],
   "source": [
    "# Cargar el dataset exportado desde Pentaho\n",
    "file_path = 'resul.txt'\n",
    "df = pd.read_csv(file_path, sep=';', decimal=',')\n",
    "df.head()"
   ]
  },
  {
   "cell_type": "code",
   "execution_count": null,
   "id": "e515f672",
   "metadata": {},
   "outputs": [],
   "source": [
    "# Seleccionar columnas útiles y limpiar nombres\n",
    "df = df[[\"anio\", \"localidad_nombre\", \"superficie_ha\", \"quintales_producidos\", \"rendimiento_kg_ha\"]].copy()\n",
    "df.columns = [\"anio\", \"localidad\", \"superficie_ha\", \"quintales\", \"rendimiento\"]\n",
    "\n",
    "# Asegurar tipos numéricos\n",
    "df[\"superficie_ha\"] = pd.to_numeric(df[\"superficie_ha\"], errors=\"coerce\")\n",
    "df[\"quintales\"] = pd.to_numeric(df[\"quintales\"], errors=\"coerce\")\n",
    "df[\"rendimiento\"] = pd.to_numeric(df[\"rendimiento\"], errors=\"coerce\")\n",
    "\n",
    "# Crear nueva columna: producción en kg\n",
    "df[\"produccion_kg\"] = df[\"quintales\"] * 100\n",
    "\n",
    "df.dropna(inplace=True)\n",
    "df.head()"
   ]
  },
  {
   "cell_type": "code",
   "execution_count": null,
   "id": "d3fdc519",
   "metadata": {},
   "outputs": [],
   "source": [
    "# Agrupar por año (toda San Rafael)\n",
    "df_anual = df.groupby(\"anio\").agg({\"superficie_ha\": \"sum\", \"produccion_kg\": \"sum\"}).reset_index()\n",
    "df_anual[\"rendimiento_kg_ha\"] = df_anual[\"produccion_kg\"] / df_anual[\"superficie_ha\"]\n",
    "df_anual"
   ]
  },
  {
   "cell_type": "code",
   "execution_count": null,
   "id": "2d18a0f7",
   "metadata": {},
   "outputs": [],
   "source": [
    "# Visualización: evolución de producción y superficie\n",
    "plt.figure(figsize=(10, 5))\n",
    "plt.plot(df_anual[\"anio\"], df_anual[\"produccion_kg\"], marker='o', label='Producción (kg)')\n",
    "plt.plot(df_anual[\"anio\"], df_anual[\"superficie_ha\"], marker='s', label='Superficie (ha)')\n",
    "plt.title(\"Evolución de Producción y Superficie en San Rafael\")\n",
    "plt.xlabel(\"Año\")\n",
    "plt.legend()\n",
    "plt.grid()\n",
    "plt.show()"
   ]
  },
  {
   "cell_type": "code",
   "execution_count": null,
   "id": "57ebfbd0",
   "metadata": {},
   "outputs": [],
   "source": [
    "# Evolución del rendimiento\n",
    "plt.figure(figsize=(10,4))\n",
    "plt.plot(df_anual[\"anio\"], df_anual[\"rendimiento_kg_ha\"], marker='d', color='green')\n",
    "plt.title(\"Evolución del Rendimiento (kg/ha)\")\n",
    "plt.xlabel(\"Año\")\n",
    "plt.ylabel(\"kg/ha\")\n",
    "plt.grid()\n",
    "plt.show()"
   ]
  },
  {
   "cell_type": "code",
   "execution_count": null,
   "id": "87d512eb",
   "metadata": {},
   "outputs": [],
   "source": [
    "# Modelo predictivo: predecir producción en base a superficie y año\n",
    "X = df_anual[[\"anio\", \"superficie_ha\"]]\n",
    "y = df_anual[\"produccion_kg\"]\n",
    "\n",
    "X_train, X_test, y_train, y_test = train_test_split(X, y, test_size=0.3, random_state=42)\n",
    "model = LinearRegression().fit(X_train, y_train)\n",
    "\n",
    "y_pred = model.predict(X_test)\n",
    "\n",
    "print(\"R2 score:\", r2_score(y_test, y_pred))\n",
    "print(\"RMSE:\", mean_squared_error(y_test, y_pred, squared=False))"
   ]
  },
  {
   "cell_type": "code",
   "execution_count": null,
   "id": "431f36b6",
   "metadata": {},
   "outputs": [],
   "source": [
    "# Proyección para años futuros\n",
    "future = pd.DataFrame({\"anio\": [2018, 2019, 2020], \"superficie_ha\": [df_anual[\"superficie_ha\"].mean()] * 3})\n",
    "future[\"produccion_pred\"] = model.predict(future)\n",
    "future"
   ]
  }
 ],
 "metadata": {},
 "nbformat": 4,
 "nbformat_minor": 5
}